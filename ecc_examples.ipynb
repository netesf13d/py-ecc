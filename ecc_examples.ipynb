{
 "cells": [
  {
   "cell_type": "markdown",
   "id": "c1ef453a-2ed7-4786-a2bc-44a98d50a0e0",
   "metadata": {},
   "source": [
    "# **Elliptic curves cryptography**\n",
    "\n",
    "The package provides:\n",
    "* Elliptic curve cryptography algorithms\n",
    "* Elliptic curve algebra with different forms of curves\n",
    "* Some cryptanalysis algorithms\n",
    "This notebook illustrates the above with simple examples. The code is compete enought to cover the functionality extensively.\n",
    "\n",
    "Contents\n",
    "--------\n",
    "1. [Basic usage](#basic_usage)\n",
    "    1. [Fetching standard curves](#get_curve)\n",
    "    2. [Elliptic Curve Digital Signature Algorithm (ECDSA)](#ecdsa)\n",
    "    3. [Edwards Curve Digital Signature Algorithm (EdDSA)](#eddsa)\n",
    "    4. [Elliptic Curve Diffie-Hellman (ECDH)](#ecdh)\n",
    "2. [Custom elliptic curves](#custom_curves)\n",
    "3. [Cryptographic algorithms with custom curves](#custom_algos)\n",
    "4. [Cryptanalysis](#cryptanalysis)\n",
    "    1. [Pohlig-Hellman algorithm](#pohlig_hellman)\n",
    "    2. [Partially known nonces attack](#hnp)\n",
    "5. [Tests](#tests)\n"
   ]
  },
  {
   "cell_type": "markdown",
   "id": "a113614f-563d-4b2b-a53c-261e5ae4eb90",
   "metadata": {},
   "source": [
    "## <a name=\"basic_usage\"></a>Basic usage\n",
    "\n",
    "We start with basic usage of the package. Importing the package exposes the following functionality:\n",
    "* Standard elliptic curves fetching and manipulation\n",
    "* Signatures schemes (ECDSA, EdDSA)\n",
    "* Secret sharing (ECDH)\n",
    "\n",
    " "
   ]
  },
  {
   "cell_type": "code",
   "execution_count": 1,
   "id": "0735583f-66d8-45b3-ab1e-567323841042",
   "metadata": {},
   "outputs": [],
   "source": [
    "import random\n",
    "import ecc"
   ]
  },
  {
   "cell_type": "markdown",
   "id": "6b94522e-ae0c-47e1-bc89-08c981fcce46",
   "metadata": {},
   "source": [
    "### <a name=\"get_curve\"></a>Fetching standard curves\n",
    "\n",
    "Standard elliptic curves can be fetched with the function `get_curve` which returns an `Elliptic_Curve` instance, along with other characteristics relevant to cryptographic applications: the subgroup generator, the subgroup order and the cofactor. The description of curve operations and other functionality of `Elliptic_Curve` objects is given in section [Custom elliptic curves](#custom_curves)."
   ]
  },
  {
   "cell_type": "code",
   "execution_count": 2,
   "id": "f1c05367-79e4-4911-b30e-352969216a48",
   "metadata": {},
   "outputs": [
    {
     "name": "stdout",
     "output_type": "stream",
     "text": [
      "elliptic curve: Weierstrass curve y^2 = x^3 + ax + b (mod p)\n",
      "p = 0xfffffffffffffffffffffffffffffffffffffffffffffffffffffffefffffc2f\n",
      "a = 0x0\n",
      "b = 0x7\n",
      "Generator: (55066263022277343669578718895168534326250603453777594175500187360389116729240, 32670510020758816978083085130507043184471273380659243275938904335757337482424)\n",
      "Subgroup order: 115792089237316195423570985008687907852837564279074904382605163141518161494337\n",
      "Cofactor: 1\n"
     ]
    }
   ],
   "source": [
    "elliptic_curve, generator, subgroup_order, cofactor = ecc.get_curve(\"Secp256k1\")\n",
    "print(f\"elliptic curve: {elliptic_curve}\\nGenerator: {generator}\\n\"\n",
    "      f\"Subgroup order: {subgroup_order}\\nCofactor: {cofactor}\")"
   ]
  },
  {
   "cell_type": "markdown",
   "id": "5930e310-84d2-4f49-a681-28067395ae24",
   "metadata": {},
   "source": [
    "### <a name=\"ecdsa\"></a>Elliptic Curve Digital Signature Algorithm (ECDSA)\n",
    "\n",
    "The ECDSA signature scheme is described in [RFC 6090](https://www.rfc-editor.org/rfc/rfc6090) and [RFC 6979](https://www.rfc-editor.org/rfc/rfc6979). ECDSA is built from the combination of an elliptic curve and a hash function.\n",
    "\n",
    "Standard ECDSA protocols are instantiated through the `ECDSA` class, with a standard curve name (one available with `get_curve`) and a standard hash function. In contrast with, for instance, EdDSA, the RFCs are not strict about valid hash/curves combinations nor data encoding. This reflects in the data types returned by various methods: a pair of `int` for signatures, a curve point for public keys, etc. These would have to be appropriately encoded before transmission in practical applications."
   ]
  },
  {
   "cell_type": "code",
   "execution_count": 3,
   "id": "62db1710-2770-4990-9375-12b82bf163d8",
   "metadata": {},
   "outputs": [
    {
     "data": {
      "text/plain": [
       "(58128564310083070330275462878938174259287534296167972427341594703271318455013,\n",
       " 73737404552307517624652646873051671683881260560077967258375024182685707525051)"
      ]
     },
     "execution_count": 3,
     "metadata": {},
     "output_type": "execute_result"
    }
   ],
   "source": [
    "# Instantiate bitcoin ECDSA signature scheme\n",
    "ecdsa = ecc.ECDSA(curve_name=\"Secp256k1\", hash_name=\"sha256\")\n",
    "# Generate secret integer between 2 and the group order\n",
    "secret = random.randint(2, ecdsa.n-1) # not secure for cryptographic applications\n",
    "# and a public key\n",
    "public_key = ecdsa.public_key(secret) # pair of int\n",
    "\n",
    "public_key"
   ]
  },
  {
   "cell_type": "code",
   "execution_count": 4,
   "id": "83ccdced-7dad-4060-b9c3-5310e9efbf34",
   "metadata": {},
   "outputs": [
    {
     "data": {
      "text/plain": [
       "(29785879176329441955487661916420389239884272275590184132838508833139586876041,\n",
       " 99663528411773968178105414283327223456613060648822441000722394008568783479630)"
      ]
     },
     "execution_count": 4,
     "metadata": {},
     "output_type": "execute_result"
    }
   ],
   "source": [
    "# Sign a message\n",
    "message = b\"A first message\"\n",
    "signature = ecdsa.sign(message, secret) # returned as a tuple of int\n",
    "\n",
    "signature"
   ]
  },
  {
   "cell_type": "code",
   "execution_count": 5,
   "id": "27adf1b2-8ab0-4a08-8575-5ac5ae104b8e",
   "metadata": {},
   "outputs": [
    {
     "data": {
      "text/plain": [
       "True"
      ]
     },
     "execution_count": 5,
     "metadata": {},
     "output_type": "execute_result"
    }
   ],
   "source": [
    "# Verify the signature\n",
    "ecdsa.verify(message, signature, public_key)"
   ]
  },
  {
   "cell_type": "markdown",
   "id": "88bc592b-3416-4a64-91f8-1331efee3ac6",
   "metadata": {},
   "source": [
    "The deterministic nonce generation algorithm of RFC 6979 is implemented and is the default, but can be overridden with the `nonce` parameter."
   ]
  },
  {
   "cell_type": "code",
   "execution_count": 6,
   "id": "f0fbfcb9-ff1f-4e55-9917-43165568ebf5",
   "metadata": {},
   "outputs": [
    {
     "data": {
      "text/plain": [
       "(True, True)"
      ]
     },
     "execution_count": 6,
     "metadata": {},
     "output_type": "execute_result"
    }
   ],
   "source": [
    "# RFC 6979 specifies deterministic nonce generation to avoid reuse...\n",
    "nonce = next(ecdsa.nonce_gen(message, secret))\n",
    "# ...otherwise secret recovery is possible\n",
    "message2 = b\"A second message\"\n",
    "signature2 = ecdsa.sign(message2, secret, nonce=nonce)\n",
    "sk, k = ecdsa.secret_recovery(message, signature, message2, signature2)\n",
    "\n",
    "k == nonce, sk == secret"
   ]
  },
  {
   "cell_type": "markdown",
   "id": "b6fdec79-c7d6-41e1-9305-28e2c407c94c",
   "metadata": {},
   "source": [
    "### <a name=\"eddsa\"></a>Edwards Curve Digital Signature Algorithm (EdDSA)\n",
    "\n",
    "This signature scheme is given in [RFC 8032](https://www.rfc-editor.org/rfc/rfc8032), with two instances described: Ed25519 and ED448, using definite pairs of curves/hash functions. The scheme itself differs slightly from ECDSA (and is secure against nonce reuse).\n",
    "\n",
    "EdDSA instances are created by calling `eddsa_obj` with the name of the instance as the only parameter (`'Ed25519'` or `'Ed448'`). Contrary to ECDSA, data encoding is specified, which reflects in the returned values."
   ]
  },
  {
   "cell_type": "code",
   "execution_count": 7,
   "id": "a0beb578-421a-49f1-b028-bcb35af76f65",
   "metadata": {},
   "outputs": [],
   "source": [
    "eddsa = ecc.eddsa_obj(\"Ed25519\")\n",
    "secret = random.randbytes(32) # RFC 8032 requires a 32-bytes string for edwards25519\n",
    "pubkey = eddsa.public_key(secret) # encoded as a byte string"
   ]
  },
  {
   "cell_type": "code",
   "execution_count": 8,
   "id": "47e9cc53-590a-4591-88d4-8ec5b3c8483b",
   "metadata": {},
   "outputs": [],
   "source": [
    "# sign a message\n",
    "message = \"Important message\".encode(\"utf-8\")\n",
    "signature = eddsa.sign(message, secret) # returned as a byte string"
   ]
  },
  {
   "cell_type": "code",
   "execution_count": 9,
   "id": "92a9715c-1181-4b63-ad39-cb01faa90743",
   "metadata": {},
   "outputs": [
    {
     "data": {
      "text/plain": [
       "'092437c6c92f16a74dcff8744ce8cc3711a44ef434a1f1fa067fa2bf21706b4d963c6f93a31feb02611113f702729287ef33f35c36466c0d5e198b6704cce309'"
      ]
     },
     "execution_count": 9,
     "metadata": {},
     "output_type": "execute_result"
    }
   ],
   "source": [
    "signature.hex()"
   ]
  },
  {
   "cell_type": "code",
   "execution_count": 10,
   "id": "47583992-865b-4040-a242-c86f2f717aba",
   "metadata": {},
   "outputs": [
    {
     "data": {
      "text/plain": [
       "True"
      ]
     },
     "execution_count": 10,
     "metadata": {},
     "output_type": "execute_result"
    }
   ],
   "source": [
    "# Verify the signature\n",
    "eddsa.verify(message, signature, pubkey)"
   ]
  },
  {
   "cell_type": "markdown",
   "id": "d11f49dd-96a2-4eab-acc0-2d2d0f34355d",
   "metadata": {},
   "source": [
    "### <a name=\"ecdh\"></a>Elliptic Curve Diffie-Hellman (ECDH)\n",
    "\n",
    "The ECDH key exchange protocol is described in [RFC 7748](https://www.rfc-editor.org/rfc/rfc7748). The RFC specifies two instances: X25519 and X448.\n",
    "\n",
    "EdDSA instances are created with by calling `ecdh_obj` with the name of the instance as the only parameter (`'X25519'` or `'X448'`). For these instances, data encoding is specified, and the (signature, public key) values are returned as byte strings. Moreover, the standard instances use secret keys encoded as byte strings, with internal conversion to integer. However, such conversion would not be compatible with custom instances (using different elliptic curves). Thus integer secret keys are also accepted for the sake of generality."
   ]
  },
  {
   "cell_type": "code",
   "execution_count": 11,
   "id": "e9d5e081-e26e-4a69-9110-9dd2548a6d2c",
   "metadata": {},
   "outputs": [],
   "source": [
    "ecdh = ecc.ecdh_obj(\"X25519\")\n",
    "secretA = random.randbytes(32) # standard instances accept secret keys as byte strings, here 32 bytes for X25519\n",
    "pubkeyA = ecdh.public_key(secretA) # encoded as a byte string\n",
    "secretB = random.randint(2, ecdh.n-1) # secret keys as integers are also accepted for broader compatibility\n",
    "pubkeyB = ecdh.public_key(secretB)\n",
    "shared_secret = ecdh.ecdh(secretA, pubkeyB, use_cofactor=False) # returned as a byte string"
   ]
  },
  {
   "cell_type": "code",
   "execution_count": 12,
   "id": "10d30a31-07a4-49a5-885f-53feb5baee97",
   "metadata": {},
   "outputs": [
    {
     "data": {
      "text/plain": [
       "'cb976a3dd7353f57af6adfcd92d5c6637fa71fdb8cefbcb2c10f5b3fa0adfb47'"
      ]
     },
     "execution_count": 12,
     "metadata": {},
     "output_type": "execute_result"
    }
   ],
   "source": [
    "shared_secret.hex()"
   ]
  },
  {
   "cell_type": "code",
   "execution_count": 13,
   "id": "ed9d7b9d-7174-4731-9328-c259d3a93628",
   "metadata": {},
   "outputs": [
    {
     "data": {
      "text/plain": [
       "True"
      ]
     },
     "execution_count": 13,
     "metadata": {},
     "output_type": "execute_result"
    }
   ],
   "source": [
    "shared_secret == ecdh.ecdh(secretB, pubkeyA, use_cofactor=False)"
   ]
  },
  {
   "cell_type": "markdown",
   "id": "74e7d9d0-97aa-48ce-91bf-f039b0fe9c5b",
   "metadata": {},
   "source": [
    "The [Menezes-Qu-Vanstone](https://en.wikipedia.org/wiki/MQV) (MQV) signature scheme is also implemented."
   ]
  },
  {
   "cell_type": "code",
   "execution_count": 14,
   "id": "bdda66cc-7ff3-4f53-8663-d44cb9787034",
   "metadata": {},
   "outputs": [
    {
     "data": {
      "text/plain": [
       "'ffc54247e2211387acac4e7e32602bbc61127e40e10c497dd90ac2fff7b6e357'"
      ]
     },
     "execution_count": 14,
     "metadata": {},
     "output_type": "execute_result"
    }
   ],
   "source": [
    "secret2A = random.randbytes(32)\n",
    "pubkey2A = ecdh.public_key(secret2A)\n",
    "secret2B = random.randbytes(32)\n",
    "pubkey2B = ecdh.public_key(secret2B)\n",
    "ecdh.ecmqv(secretA, secret2A, pubkeyB, pubkey2B).hex()"
   ]
  },
  {
   "cell_type": "markdown",
   "id": "eb820044-5442-4fcb-8657-184ee89bde20",
   "metadata": {},
   "source": [
    "<a name=\"custom_curves\"></a>\n",
    "## Custom elliptic curves\n",
    "\n",
    "In addition to the curves available with `ecc.elliptic_curves.get_curve`, it is\n",
    "possible to build custom curves. These curves are defined over a finite field $F_p$ for a prime $p \\neq 2,\\ 3$. Three classes are available:\n",
    "* `Weierstrass_Curve(p, a, b)`, represent elliptic curves in canonical form $y^2 = x^3 + ax + b\\ (\\mathrm{mod}\\ p)$. This is the most general form, associated to ECDSA.\n",
    "* `Montgomery_Curve(p, A, B)`, elliptic curves in Montgomery form $By^2 = x^3 + Ax^2 + x\\ (\\mathrm{mod}\\ p)$. This is a subset of Weierstrass curves, for which an efficient algorithm exists for scalar multiplication. These curves are associated to ECDH.\n",
    "* `Edwards_Curve(p, a, d)`, elliptic curves in Edwards form $ax^2 + y^2 = 1 + dx^2y^2\\ (\\mathrm{mod}\\ p)$. These curves are associated with EdDSA.\n",
    "\n",
    "These classes implement point addition, scalar multiplication, point encoding, and conversion between different curve forms.\n",
    "\n",
    "However, algorithms to compute the curve cardinal and find a generator are not implemented. Thus, when using a custom elliptic curve to implement cryptographic protocols, one must provide the base point and group order manually. The cardinal of a curve and its generator can be determined by the following PARI/GP code:\n",
    "```\n",
    "gp> E = ellinit([a, b]*Mod(1, p)); \\\\ Weierstrass form\n",
    "gp> ellcard(E)\n",
    "gp> ellgenerators(E)\n",
    "```"
   ]
  },
  {
   "cell_type": "code",
   "execution_count": 15,
   "id": "8b6560f4-3221-4234-8ab9-1b2b59f9f7df",
   "metadata": {},
   "outputs": [],
   "source": [
    "from ecc.elliptic_curves import Weierstrass_Curve, Montgomery_Curve"
   ]
  },
  {
   "cell_type": "code",
   "execution_count": 16,
   "id": "3687ce2b-e0c3-423d-a0c9-1c5576dede8e",
   "metadata": {},
   "outputs": [],
   "source": [
    "# Custom curve parameters: brainpoolP256r1 from RFC 5639\n",
    "p = 0xA9FB57DBA1EEA9BC3E660A909D838D726E3BF623D52620282013481D1F6E5377 # base field prime\n",
    "a = 0x7D5A0975FC2C3057EEF67530417AFFE7FB8055C126DC5C6CE94A4B44F330B5D9 # y^2 = x^3 + ax + b\n",
    "b = 0x26DC5C6CE94A4B44F330B5D9BBD77CBF958416295CF7E1CE6BCCDC18FF8C07B6\n",
    "brainpool_G = (0x8BD2AEB9CB7E57CB2C4B482FFC81B7AFB9DE27E1E3BD23C23A4453BD9ACE3262, # base point\n",
    "               0x547EF835C3DAC4FD97F8461A14611DC9C27745132DED8E545C1D54C72F046997)\n",
    "brainpool_n = 0xA9FB57DBA1EEA9BC3E660A909D838D718C397AA3B561A6F7901E0E82974856A7 # order of <G>\n",
    "brainpool_h = 1 # cofactor, h = Card(EC) / n\n",
    "\n",
    "brainpool_ec = Weierstrass_Curve(p, a, b) # curve construction"
   ]
  },
  {
   "cell_type": "code",
   "execution_count": 17,
   "id": "7a22584f-e1a1-49f3-98bc-249c4c2753fc",
   "metadata": {},
   "outputs": [],
   "source": [
    "# scalar multiplication: test vector from RFC 7027\n",
    "d = 0x81DB1EE100150FF2EA338D708271BE38300CB54241D79950F77B063039804F1D\n",
    "dG = (0x44106E913F92BC02A1705D9953A8414DB95E1AAA49E81D9E85F929A8E3100BE5,\n",
    "      0x8AB4846F11CACCB73CE49CBDD120F5A900A69FD32C272223F789EF10EB089BDC)"
   ]
  },
  {
   "cell_type": "code",
   "execution_count": 18,
   "id": "475a2ed3-2696-4824-9903-1e3b9049c59b",
   "metadata": {},
   "outputs": [
    {
     "data": {
      "text/plain": [
       "(30786306364684019669845085647834227301026705121148702657850323422577469426661,\n",
       " 62738119601096463087058618165599972860801258532835385944058084661017583328220)"
      ]
     },
     "execution_count": 18,
     "metadata": {},
     "output_type": "execute_result"
    }
   ],
   "source": [
    "brainpool_ec.mult(brainpool_G, d)"
   ]
  },
  {
   "cell_type": "code",
   "execution_count": 19,
   "id": "ca7929b4-a1ff-4d7e-8847-c110cc5dac8a",
   "metadata": {},
   "outputs": [
    {
     "data": {
      "text/plain": [
       "True"
      ]
     },
     "execution_count": 19,
     "metadata": {},
     "output_type": "execute_result"
    }
   ],
   "source": [
    "brainpool_ec.mult(brainpool_G, d) == dG"
   ]
  },
  {
   "cell_type": "code",
   "execution_count": 20,
   "id": "7bd71ea3-55d2-4b9e-bfea-28154ff99519",
   "metadata": {},
   "outputs": [
    {
     "data": {
      "text/plain": [
       "(30786306364684019669845085647834227301026705121148702657850323422577469426661,\n",
       " 62738119601096463087058618165599972860801258532835385944058084661017583328220)"
      ]
     },
     "execution_count": 20,
     "metadata": {},
     "output_type": "execute_result"
    }
   ],
   "source": [
    "brainpool_ec.add(brainpool_ec.mult(brainpool_G, d-1), brainpool_G)"
   ]
  },
  {
   "cell_type": "code",
   "execution_count": 21,
   "id": "92cec802-3fc8-47a2-b1c2-757700d9ba90",
   "metadata": {},
   "outputs": [
    {
     "data": {
      "text/plain": [
       "((inf, inf), (inf, inf))"
      ]
     },
     "execution_count": 21,
     "metadata": {},
     "output_type": "execute_result"
    }
   ],
   "source": [
    "brainpool_ec.mult(brainpool_G, brainpool_n), brainpool_ec.identity # n<G> == (inf, inf), the identity"
   ]
  },
  {
   "cell_type": "markdown",
   "id": "f69396e3-e2a1-4a92-916c-ef22d9acf4dd",
   "metadata": {},
   "source": [
    "Conversion between curve point and byte strings is implemented according to the corresponding RFC for the three `Elliptic_Curve` subclasses:\n",
    "* `Weierstrass_Curve`: [SEC 1: Elliptic Curve Cryptography](https://www.secg.org/sec1-v2.pdf) sections 2.3.3 and 2.3.4.\n",
    "* `Montgomery_Curve`: [RFC 7748](https://www.rfc-editor.org/rfc/rfc7748#section-5) section 5.\n",
    "* `Edwards_Curve`: [RFC 8032](https://www.rfc-editor.org/rfc/rfc8032#section-5.1) sections 5.1.2 and 5.1.3."
   ]
  },
  {
   "cell_type": "code",
   "execution_count": 22,
   "id": "67c350e7-d140-44d9-8628-3b0c9b25c391",
   "metadata": {},
   "outputs": [
    {
     "data": {
      "text/plain": [
       "'0444106e913f92bc02a1705d9953a8414db95e1aaa49e81d9e85f929a8e3100be58ab4846f11caccb73ce49cbdd120f5a900a69fd32c272223f789ef10eb089bdc'"
      ]
     },
     "execution_count": 22,
     "metadata": {},
     "output_type": "execute_result"
    }
   ],
   "source": [
    "dG_enc = brainpool_ec.encode_point(dG, compress=False)\n",
    "dG_enc.hex()"
   ]
  },
  {
   "cell_type": "code",
   "execution_count": 23,
   "id": "90191c5a-812f-4f3a-9623-c07d7ca567d1",
   "metadata": {},
   "outputs": [
    {
     "data": {
      "text/plain": [
       "(30786306364684019669845085647834227301026705121148702657850323422577469426661,\n",
       " 62738119601096463087058618165599972860801258532835385944058084661017583328220)"
      ]
     },
     "execution_count": 23,
     "metadata": {},
     "output_type": "execute_result"
    }
   ],
   "source": [
    "dG_dec = brainpool_ec.decode_point(dG_enc)\n",
    "dG_dec"
   ]
  },
  {
   "cell_type": "code",
   "execution_count": 24,
   "id": "0e4f549c-59ac-47ba-8f60-aa6127304cef",
   "metadata": {},
   "outputs": [
    {
     "data": {
      "text/plain": [
       "True"
      ]
     },
     "execution_count": 24,
     "metadata": {},
     "output_type": "execute_result"
    }
   ],
   "source": [
    "dG == dG_dec"
   ]
  },
  {
   "cell_type": "markdown",
   "id": "ad6dfb40-3c5b-4567-9460-6be50d34d371",
   "metadata": {},
   "source": [
    "The various representations of elliptic curves are somewhat equivalent. More precisely, there exist [birational equivalences](https://en.wikipedia.org/wiki/Montgomery_curve#Equivalence_with_twisted_Edwards_curves) between the different curve forms:\n",
    "* Edwards <-> Montgomery\n",
    "* Montgomery -> Weierstrass\n",
    "* (in some cases) Weierstrass -> Montgomery"
   ]
  },
  {
   "cell_type": "code",
   "execution_count": 25,
   "id": "32e76e77-3de0-4c7a-8151-cf5d38231fd3",
   "metadata": {},
   "outputs": [],
   "source": [
    "p = 2**255 - 19\n",
    "ec, G, n, _ = ecc.get_curve('edwards25519')"
   ]
  },
  {
   "cell_type": "code",
   "execution_count": 26,
   "id": "ccf5b853-0933-4522-bdfb-5982b81b3696",
   "metadata": {},
   "outputs": [],
   "source": [
    "# Convert edwards25519 to curve25519\n",
    "ec_ = Montgomery_Curve(*ec.montgomery_form()) # curve25519\n",
    "G_ = ec.montgomery_point(G)"
   ]
  },
  {
   "cell_type": "code",
   "execution_count": 27,
   "id": "d828e8bf-2bd6-4f55-92e1-eeadf9731966",
   "metadata": {},
   "outputs": [
    {
     "data": {
      "text/plain": [
       "Montgomery_Curve(\n",
       "    p=0x7fffffffffffffffffffffffffffffffffffffffffffffffffffffffffffffed,\n",
       "    A=0x76d06,\n",
       "    B=0x7ffffffffffffffffffffffffffffffffffffffffffffffffffffffffff892e5)"
      ]
     },
     "execution_count": 27,
     "metadata": {},
     "output_type": "execute_result"
    }
   ],
   "source": [
    "ec_"
   ]
  },
  {
   "cell_type": "code",
   "execution_count": 28,
   "id": "997fb04f-0bf9-42cd-948b-546d775bb1ec",
   "metadata": {},
   "outputs": [
    {
     "data": {
      "text/plain": [
       "(9,\n",
       " 46155036877857898950720737868668298259344786430663990124372813544693780678454)"
      ]
     },
     "execution_count": 28,
     "metadata": {},
     "output_type": "execute_result"
    }
   ],
   "source": [
    "G_"
   ]
  },
  {
   "cell_type": "code",
   "execution_count": 29,
   "id": "9932819a-4929-46e5-9bff-ef8e511412fa",
   "metadata": {},
   "outputs": [],
   "source": [
    "# it does not quite correspond to curve25519\n",
    "curve25519, G_25519, *_ = ecc.get_curve('curve25519')"
   ]
  },
  {
   "cell_type": "code",
   "execution_count": 30,
   "id": "f53a5e81-50a8-4614-8dfb-8d574bfa2388",
   "metadata": {},
   "outputs": [
    {
     "data": {
      "text/plain": [
       "Montgomery_Curve(\n",
       "    p=0x7fffffffffffffffffffffffffffffffffffffffffffffffffffffffffffffed,\n",
       "    A=0x76d06,\n",
       "    B=0x1)"
      ]
     },
     "execution_count": 30,
     "metadata": {},
     "output_type": "execute_result"
    }
   ],
   "source": [
    "curve25519"
   ]
  },
  {
   "cell_type": "code",
   "execution_count": 31,
   "id": "d5b9a1c1-4270-4269-945f-f835eb135f1d",
   "metadata": {},
   "outputs": [
    {
     "data": {
      "text/plain": [
       "(9,\n",
       " 43114425171068552920764898935933967039370386198203806730763910166200978582548)"
      ]
     },
     "execution_count": 31,
     "metadata": {},
     "output_type": "execute_result"
    }
   ],
   "source": [
    "G_25519"
   ]
  },
  {
   "cell_type": "code",
   "execution_count": 32,
   "id": "5ed28b13-439b-4194-8d85-9551cce0c8f9",
   "metadata": {},
   "outputs": [],
   "source": [
    "# but the two can be mapped to each other (see RFC 7748 section 4.1)\n",
    "sqrt = 0xf26edf460a006bbd27b08dc03fc4f7ec5a1d3d14b7d1a82cc6e04aaff457e06 # sqrt(-486664) (mod p)"
   ]
  },
  {
   "cell_type": "code",
   "execution_count": 33,
   "id": "e822250d-9fe3-405c-81f3-58e295ea1935",
   "metadata": {},
   "outputs": [
    {
     "data": {
      "text/plain": [
       "True"
      ]
     },
     "execution_count": 33,
     "metadata": {},
     "output_type": "execute_result"
    }
   ],
   "source": [
    "G_[1]*sqrt % p == G_25519[1]"
   ]
  },
  {
   "cell_type": "code",
   "execution_count": 34,
   "id": "2f87e1a6-0d97-438a-bcd6-c9bb8f878e1c",
   "metadata": {},
   "outputs": [
    {
     "data": {
      "text/plain": [
       "True"
      ]
     },
     "execution_count": 34,
     "metadata": {},
     "output_type": "execute_result"
    }
   ],
   "source": [
    "ec_.B * pow(sqrt, -2, p) % p == curve25519.B"
   ]
  },
  {
   "cell_type": "code",
   "execution_count": 35,
   "id": "e8b58ff9-7fa3-4177-97ac-492360e46b72",
   "metadata": {},
   "outputs": [],
   "source": [
    "# The group structure is nevertheless preserved\n",
    "k = random.randint(1, n-1)\n",
    "kG = ec.mult(G, k)"
   ]
  },
  {
   "cell_type": "code",
   "execution_count": 36,
   "id": "fb0238d2-1074-4beb-8f22-68d18b4af87a",
   "metadata": {},
   "outputs": [
    {
     "data": {
      "text/plain": [
       "True"
      ]
     },
     "execution_count": 36,
     "metadata": {},
     "output_type": "execute_result"
    }
   ],
   "source": [
    "# both in Montgomery form\n",
    "kG_ = ec.montgomery_point(kG)\n",
    "\n",
    "ec_.mult(G_, k) == kG_"
   ]
  },
  {
   "cell_type": "code",
   "execution_count": 37,
   "id": "865ca539-8f73-43f7-9354-361fe0da188a",
   "metadata": {},
   "outputs": [
    {
     "data": {
      "text/plain": [
       "True"
      ]
     },
     "execution_count": 37,
     "metadata": {},
     "output_type": "execute_result"
    }
   ],
   "source": [
    "# and in Weierstrass form\n",
    "ec_ = Weierstrass_Curve(*ec.weierstrass_form())\n",
    "G_ = ec.weierstrass_point(G)\n",
    "kG_ = ec.weierstrass_point(kG)\n",
    "\n",
    "ec_.mult(G_, k) == kG_"
   ]
  },
  {
   "cell_type": "markdown",
   "id": "0414ca61-e109-4d79-a654-9665babd37d7",
   "metadata": {},
   "source": [
    "## <a name=\"custom_algos\"></a>Cryptographic algorithms with custom curves\n",
    "\n",
    "It is also possible to create ECDSA/EdDSA/ECDH instances with custom curves. For this, the corresponding objects must be instantiated from the classes `ECDSA_Base`, `ECDH`, `EdDSA`. Along with the elliptic curve, these require other parameters such as a subgroup generator, the subgroup order, hash functions (for signatures schemes), etc."
   ]
  },
  {
   "cell_type": "code",
   "execution_count": 38,
   "id": "233cb3d2-c924-43a6-8844-367f51a3767c",
   "metadata": {},
   "outputs": [],
   "source": [
    "from ecc.cryptography import ECDSA_Base, ECDH"
   ]
  },
  {
   "cell_type": "markdown",
   "id": "426c3bba-5403-4e2a-99bf-718cf491fbf0",
   "metadata": {},
   "source": [
    "Here, we use the curve brainpoolP256r1 to build a custom ECDH instance."
   ]
  },
  {
   "cell_type": "code",
   "execution_count": 39,
   "id": "68032211-d262-487f-8c5e-99c779b7da2c",
   "metadata": {},
   "outputs": [],
   "source": [
    "custom_ecdh = ECDH(brainpool_ec, brainpool_G, brainpool_n, brainpool_h)\n",
    "# test vector from RFC 7027\n",
    "secretA = 0x81DB1EE100150FF2EA338D708271BE38300CB54241D79950F77B063039804F1D\n",
    "secretB = 0x55E40BC41E37E3E2AD25C3C6654511FFA8474A91A0032087593852D3E7D76BD3\n",
    "pubkeyB = custom_ecdh.public_key(secretB)\n",
    "test = (0x89AFC39D41D3B327814B80940B042590F96556EC91E6AE7939BCE31F3A18BF2B,\n",
    "        0x49C27868F4ECA2179BFD7D59B1E3BF34C1DBDE61AE12931648F43E59632504DE)\n",
    "shared_secret = custom_ecdh.ecdh(secretA, pubkeyB, use_cofactor=False)"
   ]
  },
  {
   "cell_type": "code",
   "execution_count": 40,
   "id": "f45bb10a-5dd5-4460-a531-92def7729e4a",
   "metadata": {},
   "outputs": [
    {
     "data": {
      "text/plain": [
       "True"
      ]
     },
     "execution_count": 40,
     "metadata": {},
     "output_type": "execute_result"
    }
   ],
   "source": [
    "shared_secret == custom_ecdh.ec.encode_point(test)"
   ]
  },
  {
   "cell_type": "markdown",
   "id": "fb761747-190d-4e61-9b98-eb0121afdf02",
   "metadata": {},
   "source": [
    "...and a custom ECDSA instance. Here, due to the technical aspects of nonce generation, a fixed selection of hash functions is available."
   ]
  },
  {
   "cell_type": "code",
   "execution_count": 41,
   "id": "3cccbffb-110b-4f24-8588-c2e22b00b5a6",
   "metadata": {},
   "outputs": [
    {
     "ename": "ValueError",
     "evalue": "incorrect hash name BLAKE-256, available hashes are {'sha1', 'sha3-384', 'md5', 'sha3-512', 'sha256', 'sha384', 'sha3-256', 'sha3-224', 'sha512', 'sha224'}",
     "output_type": "error",
     "traceback": [
      "\u001b[1;31m---------------------------------------------------------------------------\u001b[0m",
      "\u001b[1;31mKeyError\u001b[0m                                  Traceback (most recent call last)",
      "File \u001b[1;32mD:\\dev\\root-me\\_utils\\ecc\\cryptography\\ecdsa.py:101\u001b[0m, in \u001b[0;36mECDSA_Base.set_digest\u001b[1;34m(self, hash_name)\u001b[0m\n\u001b[0;32m    100\u001b[0m \u001b[38;5;28;01mtry\u001b[39;00m:\n\u001b[1;32m--> 101\u001b[0m     hash_obj \u001b[38;5;241m=\u001b[39m HASHES[hash_name\u001b[38;5;241m.\u001b[39mlower()]\n\u001b[0;32m    102\u001b[0m \u001b[38;5;28;01mexcept\u001b[39;00m \u001b[38;5;167;01mKeyError\u001b[39;00m:\n",
      "\u001b[1;31mKeyError\u001b[0m: 'blake-256'",
      "\nDuring handling of the above exception, another exception occurred:\n",
      "\u001b[1;31mValueError\u001b[0m                                Traceback (most recent call last)",
      "Cell \u001b[1;32mIn[41], line 1\u001b[0m\n\u001b[1;32m----> 1\u001b[0m custom_ecdsa \u001b[38;5;241m=\u001b[39m ECDSA_Base(brainpool_ec, brainpool_G, brainpool_n, hash_name\u001b[38;5;241m=\u001b[39m\u001b[38;5;124m\"\u001b[39m\u001b[38;5;124mBLAKE-256\u001b[39m\u001b[38;5;124m\"\u001b[39m)\n",
      "File \u001b[1;32mD:\\dev\\root-me\\_utils\\ecc\\cryptography\\ecdsa.py:93\u001b[0m, in \u001b[0;36mECDSA_Base.__init__\u001b[1;34m(self, elliptic_curve, G, n, hash_name)\u001b[0m\n\u001b[0;32m     91\u001b[0m \u001b[38;5;28mself\u001b[39m\u001b[38;5;241m.\u001b[39mdigest_size \u001b[38;5;241m=\u001b[39m \u001b[38;5;28;01mNone\u001b[39;00m\n\u001b[0;32m     92\u001b[0m \u001b[38;5;28mself\u001b[39m\u001b[38;5;241m.\u001b[39mhash_block_size \u001b[38;5;241m=\u001b[39m \u001b[38;5;28;01mNone\u001b[39;00m\n\u001b[1;32m---> 93\u001b[0m \u001b[38;5;28mself\u001b[39m\u001b[38;5;241m.\u001b[39mset_digest(hash_name)\n",
      "File \u001b[1;32mD:\\dev\\root-me\\_utils\\ecc\\cryptography\\ecdsa.py:104\u001b[0m, in \u001b[0;36mECDSA_Base.set_digest\u001b[1;34m(self, hash_name)\u001b[0m\n\u001b[0;32m    102\u001b[0m \u001b[38;5;28;01mexcept\u001b[39;00m \u001b[38;5;167;01mKeyError\u001b[39;00m:\n\u001b[0;32m    103\u001b[0m     msg \u001b[38;5;241m=\u001b[39m \u001b[38;5;124mf\u001b[39m\u001b[38;5;124m\"\u001b[39m\u001b[38;5;124mavailable hashes are \u001b[39m\u001b[38;5;132;01m{\u001b[39;00m\u001b[38;5;28mset\u001b[39m(HASHES\u001b[38;5;241m.\u001b[39mkeys())\u001b[38;5;132;01m}\u001b[39;00m\u001b[38;5;124m\"\u001b[39m\n\u001b[1;32m--> 104\u001b[0m     \u001b[38;5;28;01mraise\u001b[39;00m \u001b[38;5;167;01mValueError\u001b[39;00m(\u001b[38;5;124mf\u001b[39m\u001b[38;5;124m\"\u001b[39m\u001b[38;5;124mincorrect hash name \u001b[39m\u001b[38;5;132;01m{\u001b[39;00mhash_name\u001b[38;5;132;01m}\u001b[39;00m\u001b[38;5;124m, \u001b[39m\u001b[38;5;124m\"\u001b[39m \u001b[38;5;241m+\u001b[39m msg)\n\u001b[0;32m    105\u001b[0m \u001b[38;5;28mself\u001b[39m\u001b[38;5;241m.\u001b[39mhash_name \u001b[38;5;241m=\u001b[39m hash_name\u001b[38;5;241m.\u001b[39mlower()\n\u001b[0;32m    106\u001b[0m \u001b[38;5;28mself\u001b[39m\u001b[38;5;241m.\u001b[39mdigest \u001b[38;5;241m=\u001b[39m \u001b[38;5;28;01mlambda\u001b[39;00m m: hash_obj(m)\u001b[38;5;241m.\u001b[39mdigest()\n",
      "\u001b[1;31mValueError\u001b[0m: incorrect hash name BLAKE-256, available hashes are {'sha1', 'sha3-384', 'md5', 'sha3-512', 'sha256', 'sha384', 'sha3-256', 'sha3-224', 'sha512', 'sha224'}"
     ]
    }
   ],
   "source": [
    "custom_ecdsa = ECDSA_Base(brainpool_ec, brainpool_G, brainpool_n, hash_name=\"BLAKE-256\")"
   ]
  },
  {
   "cell_type": "code",
   "execution_count": 42,
   "id": "c074a1d7-ec23-4712-9767-93f86b4c0ea8",
   "metadata": {},
   "outputs": [],
   "source": [
    "custom_ecdsa = ECDSA_Base(brainpool_ec, brainpool_G, brainpool_n, hash_name=\"SHA3-384\") # the hash name is casefolded\n",
    "message = b\"Lorem ipsum dolor sit amet\"\n",
    "secret = random.randint(2, ecdsa.n-1)\n",
    "pubkey = custom_ecdsa.public_key(secret)\n",
    "signature = custom_ecdsa.sign(message, secret)"
   ]
  },
  {
   "cell_type": "code",
   "execution_count": 43,
   "id": "afba952b-c10e-4bb5-9f4d-f93754905ded",
   "metadata": {},
   "outputs": [
    {
     "data": {
      "text/plain": [
       "(2589051408365795916842484484958834543526871002871676601028520264343784797039,\n",
       " 36366557545319682578001883516756293663306339157145900635648579834367156324483)"
      ]
     },
     "execution_count": 43,
     "metadata": {},
     "output_type": "execute_result"
    }
   ],
   "source": [
    "signature"
   ]
  },
  {
   "cell_type": "code",
   "execution_count": 44,
   "id": "ec64e287-e893-47c2-a2c3-90edc8ccc28f",
   "metadata": {},
   "outputs": [
    {
     "data": {
      "text/plain": [
       "True"
      ]
     },
     "execution_count": 44,
     "metadata": {},
     "output_type": "execute_result"
    }
   ],
   "source": [
    "custom_ecdsa.verify(message, signature, pubkey)"
   ]
  },
  {
   "cell_type": "markdown",
   "id": "32adf8cd-518b-4184-b0bb-6eea54795f35",
   "metadata": {},
   "source": [
    "## <a name=\"cryptanalysis\"></a>Cryptanalysis\n",
    "\n",
    "Various attacks on elliptic curve cryptography protocols have been described. One of them, nonce reuse on ECDSA, has been illustrated above. Two additional attacks are implemented:\n",
    "* Pohlig-Hellman algorithm, which solves the discrete logarithm problem;\n",
    "* Partially known nonces attack, which recovers the secret using information leakage in digital signatures.\n",
    "\n",
    "See [https://safecurves.cr.yp.to](https://safecurves.cr.yp.to) for detailed info about the intrinsic security of ECC."
   ]
  },
  {
   "cell_type": "markdown",
   "id": "b253f5ee-96aa-4f97-a2fe-70e99b5664d7",
   "metadata": {},
   "source": [
    "### <a name=\"pohlig_hellman\"></a>Pohlig-Hellman algorithm\n",
    "\n",
    "The security of ECC is based on the hardness of the discrete logarithm problem (DLP): given two curve points $G$ and $xG$, recover the secret $x$.\n",
    "[Pohlig-Hellman algorithm](https://en.wikipedia.org/wiki/Pohlig%E2%80%93Hellman_algorithm) can be used when the order $n$ of the group $\\langle G\\rangle$ can be decomposed in small coprime factors: $n = \\prod_i q_i$, with $\\mathrm{gcd}(q_i, q_j) = 1$ for $i\\neq j$. The idea is to solve the DLP on each factor $q_i$ (for instance with Pollard's rho method) and reconstruct the value using chinese remainder theorem.\n",
    "\n",
    "This attack works only if the factors $q_i$ are small, which is obviously not the case for standard curves."
   ]
  },
  {
   "cell_type": "code",
   "execution_count": 45,
   "id": "d51cd417-61cc-46ab-ac9d-9063133a7f86",
   "metadata": {},
   "outputs": [],
   "source": [
    "from ecc.cryptanalysis import pohlig_hellman, point_order"
   ]
  },
  {
   "cell_type": "code",
   "execution_count": 46,
   "id": "2c60d5fa-129a-4091-a030-2f3ef2a1e67b",
   "metadata": {},
   "outputs": [],
   "source": [
    "# Flawed curve parameters found using PARI/GP\n",
    "p = 0x9afeae1e4e03e80d0ef2cfe58bb4bad1c88d02b2f527e8f1\n",
    "a, b = 19, 22\n",
    "card = 3800462524824166917141813802514024826521312670317078329372\n",
    "G = (427309928217811500732851283822615328666369400468094808752,\n",
    "      3071918774523334425905798193770162633643081517753727914870)\n",
    "\n",
    "ec = Weierstrass_Curve(p, a, b)\n",
    "n, n_factors = point_order(G, ec, card)"
   ]
  },
  {
   "cell_type": "code",
   "execution_count": 47,
   "id": "ee1c7af4-4004-481e-98bb-6079c327eb1f",
   "metadata": {},
   "outputs": [
    {
     "data": {
      "text/plain": [
       "(3800462524824166917141813802514024826521312670317078329372,\n",
       " {2: 2,\n",
       "  29: 2,\n",
       "  6529: 1,\n",
       "  73637: 1,\n",
       "  1114273: 1,\n",
       "  6335533: 1,\n",
       "  15559: 1,\n",
       "  3722009: 1,\n",
       "  765590759: 1,\n",
       "  7507704399191: 1})"
      ]
     },
     "execution_count": 47,
     "metadata": {},
     "output_type": "execute_result"
    }
   ],
   "source": [
    "n, n_factors # multiple `small` factors"
   ]
  },
  {
   "cell_type": "code",
   "execution_count": 52,
   "id": "e08de2d5-9387-49a1-98d8-be61b422b037",
   "metadata": {},
   "outputs": [
    {
     "data": {
      "text/plain": [
       "True"
      ]
     },
     "execution_count": 52,
     "metadata": {},
     "output_type": "execute_result"
    }
   ],
   "source": [
    "# Pohlig-Hellman attack, takes a bit of time\n",
    "sk = random.randint(2, n-1)\n",
    "pk = ec.mult(G, sk)\n",
    "s = pohlig_hellman(G, pk, ec, n, n_factors) # solving discrete logarithm with Pollard's rho on each coprime factor\n",
    "\n",
    "s == sk"
   ]
  },
  {
   "cell_type": "markdown",
   "id": "c094e7f8-2bee-4717-9d89-d7fae46ded73",
   "metadata": {},
   "source": [
    "### <a name=\"hnp\"></a>Partially known nonces attack\n",
    "\n",
    "This attack allows to recover an ECDSA/EdDSA secret from the knowledge of some LSBs of the nonces used in ECDSA signatures.\n",
    "\n",
    "An ECDSA signature is a couple $(r, s)$ such that $xr = sk - h\\ (\\mathrm{mod}\\ q)$, with\n",
    "* $h$ the hash of the signed message (known);\n",
    "* $k$ the nonce, of which we know LSBs: $k =  = b*2^l + a$ with $a$ known;\n",
    "* $x$ the secret to determine.\n",
    "\n",
    "The problem of recovering $x$ above can be formulated as a hidden number problem $|(tx - u)\\ (\\mathrm{mod}\\ q)| < 2^{l+1}$, with\n",
    "* $t = 2^{-l}rs^{-1}\\ (\\mathrm{mod}\\ q)$;\n",
    "* $u = 2^{-l}(a - hs^{-1})\\ (\\mathrm{mod}\\ q) + q/2^{l+1}$.\n",
    "This problem can in turn be solved using LLL reduction and Babai's neareest plane alogorithm.\n",
    "\n",
    "For more details, see\n",
    "* [The Insecurity of the Elliptic Curve Digital Signature Algorithm with Partially Known Nonces](https://www.researchgate.net/publication/2406712_The_Insecurity_of_the_Elliptic_Curve_Digital_Signature_Algorithm_with_Partially_Known_Nonces) - Nguyen and Shparlinski\n",
    "* [Mathematics of Public Key Cryptography](https://www.math.auckland.ac.nz/~sgal018/crypto-book/crypto-book.html) - Steven Galbraith, chapters 18 and 21.7\n",
    "      \n",
    "Although EdDSA is also subject to the attack, the implementation provided here is specific to ECDSA. The EdDSA protocol differs slightly from ECDSA, causing some differences in the attack, more specifically for the translation to the hidden number problem. Moreover, with EdDSA, it is not possible to recover the true secret, but only the derived secret (which is nevertheless enough to forge signatures)."
   ]
  },
  {
   "cell_type": "code",
   "execution_count": 48,
   "id": "8b246b54-9e56-4353-a2ba-1eef897c7da9",
   "metadata": {},
   "outputs": [],
   "source": [
    "from ecc.cryptanalysis import signatures_to_hnp, partially_known_nonces_attack"
   ]
  },
  {
   "cell_type": "code",
   "execution_count": 49,
   "id": "218f7352-dec0-4779-bae8-8a02bf73f1a9",
   "metadata": {},
   "outputs": [],
   "source": [
    "ecdsa = ecc.ECDSA(curve_name=\"Secp256k1\", hash_name=\"sha256\")\n",
    "secret = random.randint(2, ecdsa.n-1)\n",
    "\n",
    "# Attack setup\n",
    "nb_lsb_known = 9 # number of known LSBs\n",
    "nb_signatures = (3*ecdsa.n.bit_length() + nb_lsb_known-1) // nb_lsb_known"
   ]
  },
  {
   "cell_type": "code",
   "execution_count": 50,
   "id": "626bb37c-41cf-4c8b-91b9-52b5e78d9946",
   "metadata": {},
   "outputs": [],
   "source": [
    "# Build a random instance for partially known nonces attack\n",
    "messages = [random.randbytes(random.randint(0, 80)) for _ in range(nb_signatures)] # random messages\n",
    "hashes = [ecdsa.msg2int(m) for m in messages] # corresponding ECDSA hashes `h`\n",
    "nonces = [random.randint(2, ecdsa.n-1) for _ in range(nb_signatures)] # random nonces `k`\n",
    "known_values = [k % 2**nb_lsb_known for k in nonces] # extract LSBs from nonces, the `a`s\n",
    "signatures = [ecdsa.sign(msg, secret, k) for msg, k in zip(messages, nonces)] # corresponding signatures (r, s)"
   ]
  },
  {
   "cell_type": "code",
   "execution_count": 51,
   "id": "bae8cdd4-a75e-45eb-afc5-b5adb61de14c",
   "metadata": {},
   "outputs": [
    {
     "data": {
      "text/plain": [
       "True"
      ]
     },
     "execution_count": 51,
     "metadata": {},
     "output_type": "execute_result"
    }
   ],
   "source": [
    "# Partially known nonces attack\n",
    "hnp_pairs = signatures_to_hnp(signatures, ecdsa.n, nb_lsb_known, known_values, hashes)\n",
    "recovered_secret = partially_known_nonces_attack(hnp_pairs, ecdsa.n, nb_lsb_known)\n",
    "\n",
    "recovered_secret == secret"
   ]
  },
  {
   "cell_type": "markdown",
   "id": "19c65026-f317-4dda-b303-9d86d7931fe7",
   "metadata": {},
   "source": [
    "## <a name=\"tests\"></a>Running tests\n",
    "\n",
    "Finally, some tests are provided, mainly test vectors from various RFCs and websites.\n",
    "The output is a bit verbose..."
   ]
  },
  {
   "cell_type": "code",
   "execution_count": null,
   "id": "fd6e71d8-da0a-43db-8fba-2c09be7c66ac",
   "metadata": {},
   "outputs": [],
   "source": [
    "from ecc.tests import test_ec_algebra, test_ec_cryptography, test_ec_cryptanalysis\n",
    "\n",
    "test_ec_algebra(curve_operations=True,\n",
    "                codecs=True,\n",
    "                curve_equivalences=True,\n",
    "                birational_equivalences=3)\n",
    "\n",
    "test_ec_cryptography(ecdsa=True,\n",
    "                      eddsa=True,\n",
    "                      ecdh=True)\n",
    "\n",
    "test_ec_cryptanalysis(pohlig_hellman=True,\n",
    "                      partially_known_nonces=2)"
   ]
  }
 ],
 "metadata": {
  "kernelspec": {
   "display_name": "python3",
   "language": "python",
   "name": "python3"
  },
  "language_info": {
   "codemirror_mode": {
    "name": "ipython",
    "version": 3
   },
   "file_extension": ".py",
   "mimetype": "text/x-python",
   "name": "python",
   "nbconvert_exporter": "python",
   "pygments_lexer": "ipython3",
   "version": "3.11.8"
  }
 },
 "nbformat": 4,
 "nbformat_minor": 5
}
